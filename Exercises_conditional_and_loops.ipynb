{
  "nbformat": 4,
  "nbformat_minor": 0,
  "metadata": {
    "colab": {
      "provenance": [],
      "include_colab_link": true
    },
    "kernelspec": {
      "name": "python3",
      "display_name": "Python 3"
    },
    "language_info": {
      "name": "python"
    }
  },
  "cells": [
    {
      "cell_type": "markdown",
      "metadata": {
        "id": "view-in-github",
        "colab_type": "text"
      },
      "source": [
        "<a href=\"https://colab.research.google.com/github/SqueezeU/SqueezeU/blob/main/Exercises_conditional_and_loops.ipynb\" target=\"_parent\"><img src=\"https://colab.research.google.com/assets/colab-badge.svg\" alt=\"Open In Colab\"/></a>"
      ]
    },
    {
      "cell_type": "markdown",
      "source": [
        "# Condicionales"
      ],
      "metadata": {
        "id": "ESXNdrYQBfuz"
      }
    },
    {
      "cell_type": "markdown",
      "source": [
        "### Ejercicio 1\n",
        "Escribir un programa que pregunte al usuario su edad y muestre por pantalla si es mayor de edad o no."
      ],
      "metadata": {
        "id": "-xDKv1q_egQw"
      }
    },
    {
      "cell_type": "code",
      "source": [
        "# he puesto alter como nombre y el me ha puesto la solucion\n",
        "alter = int(input(\"¿Cuál es tu edad? \"))\n",
        "if alter >= 18:\n",
        "  print(\"Eres mayor de edad\")\n",
        "else:\n",
        "  print(\"Eres menor de edad\")"
      ],
      "metadata": {
        "colab": {
          "base_uri": "https://localhost:8080/"
        },
        "id": "LP2fVp6MeuGf",
        "outputId": "84081e43-d78f-412a-9dbf-f961592ebdfb"
      },
      "execution_count": 25,
      "outputs": [
        {
          "output_type": "stream",
          "name": "stdout",
          "text": [
            "¿Cuál es tu edad? 18\n",
            "Eres mayor de edad\n"
          ]
        }
      ]
    },
    {
      "cell_type": "markdown",
      "source": [
        "## Ejercicio 2\n",
        "Escribir un programa que almacene la cadena de caracteres contraseña en una variable, pregunte al usuario por la contraseña e imprima por pantalla si la contraseña introducida por el usuario coincide con la guardada en la variable sin tener en cuenta mayúsculas y minúsculas."
      ],
      "metadata": {
        "id": "xMbMUn4Le-zU"
      }
    },
    {
      "cell_type": "code",
      "source": [
        "# vaya - gracias a ChatGPT he encontrado el error - pero no entiendo porque debo que poner lower detras de pwd.stored porque ya esta guardado minuscula\n",
        "pwd_stored = \"edthemad\"\n",
        "password = input(\"Introduce la contraseña: \")\n",
        "if pwd_stored.lower() == password.lower():\n",
        "  print(\"Las contraseñas coinciden\")\n",
        "else:\n",
        "  print(\"Las contraseñas no coinciden\")"
      ],
      "metadata": {
        "colab": {
          "base_uri": "https://localhost:8080/"
        },
        "id": "6BvJ8JkBfmzH",
        "outputId": "cde143d1-c7fe-4ce1-814f-c6cec8ee510a"
      },
      "execution_count": 27,
      "outputs": [
        {
          "output_type": "stream",
          "name": "stdout",
          "text": [
            "Introduce la contraseña: Edthemad\n",
            "Las contraseñas coinciden\n"
          ]
        }
      ]
    },
    {
      "cell_type": "markdown",
      "source": [
        "## Ejercicio 3\n",
        "Escribir un programa que pida al usuario dos números y muestre por pantalla su división. Si el divisor es cero el programa debe mostrar un error."
      ],
      "metadata": {
        "id": "VC8Y6efFhVYW"
      }
    },
    {
      "cell_type": "code",
      "source": [
        "# he puesta n1 y ya me ha recommendado la solucion aparte el else he hecho yo\n",
        "n1 = float(input(\"Introduce el dividendo: \"))\n",
        "n2 = float(input(\"Introduce el divisor: \"))\n",
        "if n2 == 0:\n",
        "  print(\"Error: el divisor no puede ser cero\")\n",
        "# el siguiente he puesto yo\n",
        "else:\n",
        "  resultado = n1/n2\n",
        "  resultado = round(resultado, 2)\n",
        "  print(\"El resultado de la división es: \", resultado)"
      ],
      "metadata": {
        "colab": {
          "base_uri": "https://localhost:8080/"
        },
        "id": "1pdGkWpLj-bQ",
        "outputId": "6d323842-3f7b-45f1-97b3-b2ec80ce0f22"
      },
      "execution_count": 35,
      "outputs": [
        {
          "output_type": "stream",
          "name": "stdout",
          "text": [
            "Introduce el dividendo: 8\n",
            "Introduce el divisor: 6\n",
            "El resultado de la división es:  1.33\n"
          ]
        }
      ]
    },
    {
      "cell_type": "markdown",
      "source": [
        "## Ejercicio 4\n",
        "Escribir un programa que pida al usuario un número entero y muestre por pantalla si es par o impar."
      ],
      "metadata": {
        "id": "t9AiqIy9nbYu"
      }
    },
    {
      "cell_type": "code",
      "source": [
        "# he puesto integer como nombre y el me ha puesto la solucion\n",
        "Integer = int(input(\"Introduce un número entero: \"))\n",
        "if Integer % 2 == 0: # verifica que un numero se puede exactamente dividor por dos o que hay resto; si hay resto = impar\n",
        "  print(\"El número es par\")\n",
        "else:\n",
        "  print(\"El número es impar\")"
      ],
      "metadata": {
        "colab": {
          "base_uri": "https://localhost:8080/"
        },
        "id": "E7_yJpzHmJZ_",
        "outputId": "f0e6bdb4-9a46-4e6f-ba16-eaebadf4caea"
      },
      "execution_count": 37,
      "outputs": [
        {
          "output_type": "stream",
          "name": "stdout",
          "text": [
            "Introduce un número entero: 12\n",
            "El número es par\n"
          ]
        }
      ]
    },
    {
      "cell_type": "markdown",
      "source": [
        "## Ejercicio 5\n",
        "Para tributar un determinado impuesto se debe ser mayor de 16 años y tener unos ingresos iguales o superiores a 1000 € mensuales. Escribir un programa que pregunte al usuario su edad y sus ingresos mensuales y muestre por pantalla si el usuario tiene que tributar o no."
      ],
      "metadata": {
        "id": "3Xoo2qO_qF3S"
      }
    },
    {
      "cell_type": "code",
      "source": [
        "# he empezado pero el me ha hecho la recommendacion pero parece protegido?!?\n",
        "alter = int(input(\"Cuantos a: \"))\n",
        "einkommen = float(input(\"Introduce tus ingresos mensuales: \"))\n",
        "if alter > 16 and einkommen >= 1000:\n",
        "  print(\"Tienes que tributar\")\n",
        "# a partir de aqui he puesto yo\n",
        "elif alter > 16 and einkommen < 1000:\n",
        "  print(\"por el momento no tienes que tributar, pero joder muevete el culo\")\n",
        "elif alter < 16 and einkommen >= 1000:\n",
        "  print(\"todavia nos escapes, pero no te preocupes te pilamos pronto\")\n",
        "else:\n",
        "  print(\"no tienes que tributar\")"
      ],
      "metadata": {
        "colab": {
          "base_uri": "https://localhost:8080/"
        },
        "id": "FKNQ1JQPpYj-",
        "outputId": "441aca90-5a55-4a23-a16b-68c24bb07652"
      },
      "execution_count": 48,
      "outputs": [
        {
          "output_type": "stream",
          "name": "stdout",
          "text": [
            "Cuantos a: 14\n",
            "Introduce tus ingresos mensuales: 0\n",
            "no tienes que tributar\n"
          ]
        }
      ]
    },
    {
      "cell_type": "markdown",
      "source": [
        "## Ejercicio 6\n",
        "Los alumnos de un curso se han dividido en dos grupos A y B de acuerdo al sexo y el nombre. El grupo A esta formado por las mujeres con un nombre anterior a la M y los hombres con un nombre posterior a la N y el grupo B por el resto. Escribir un programa que pregunte al usuario su nombre y sexo, y muestre por pantalla el grupo que le corresponde."
      ],
      "metadata": {
        "id": "WmapyiXyreP2"
      }
    },
    {
      "cell_type": "markdown",
      "source": [
        "## Ejercicio 7\n",
        "Los tramos impositivos para la declaración de la renta en un determinado país son los siguientes:\n",
        "\n",
        "Renta\t                Tipo impositivo\n",
        "Menos de 10000€\t                 5%\n",
        "Entre 10000€ y 20000€\t         15%\n",
        "Entre 20000€ y 35000€\t         20%\n",
        "Entre 35000€ y 60000€\t         30%\n",
        "Más de 60000€\t                 45%\n",
        "\n",
        "Escribir un programa que pregunte al usuario su renta anual y muestre por pantalla el tipo impositivo que le corresponde."
      ],
      "metadata": {
        "id": "rHmQVm-jrkUb"
      }
    },
    {
      "cell_type": "markdown",
      "source": [
        "## Ejercicio 8\n",
        "En una determinada empresa, sus empleados son evaluados al final de cada año. Los puntos que pueden obtener en la evaluación comienzan en 0.0 y pueden ir aumentando, traduciéndose en mejores beneficios. Los puntos que pueden conseguir los empleados pueden ser 0.0, 0.4, 0.6 o más, pero no valores intermedios entre las cifras mencionadas. A continuación se muestra una tabla con los niveles correspondientes a cada puntuación. La cantidad de dinero conseguida en cada nivel es de 2.400€ multiplicada por la puntuación del nivel.\n",
        "\n",
        "Nivel\tPuntuación\n",
        "Inaceptable\t0.0\n",
        "Aceptable\t0.4\n",
        "Meritorio\t0.6 o más\n",
        "Escribir un programa que lea la puntuación del usuario e indique su nivel de rendimiento, así como la cantidad de dinero que recibirá el usuario."
      ],
      "metadata": {
        "id": "7G0EIvG2r_ty"
      }
    },
    {
      "cell_type": "markdown",
      "source": [
        "## Ejercicio 9\n",
        "Escribir un programa para una empresa que tiene salas de juegos para todas las edades y quiere calcular de forma automática el precio que debe cobrar a sus clientes por entrar. El programa debe preguntar al usuario la edad del cliente y mostrar el precio de la entrada. Si el cliente es menor de 4 años puede entrar gratis, si tiene entre 4 y 18 años debe pagar 5€ y si es mayor de 18 años, 10€."
      ],
      "metadata": {
        "id": "48aYIq-vsFCj"
      }
    },
    {
      "cell_type": "markdown",
      "source": [
        "## Ejercicio 10\n",
        "La pizzería Bella Napoli ofrece pizzas vegetarianas y no vegetarianas a sus clientes. Los ingredientes para cada tipo de pizza aparecen a continuación.\n",
        "\n",
        "Ingredientes vegetarianos: Pimiento y tofu.\n",
        "Ingredientes no vegetarianos: Peperoni, Jamón y Salmón.\n",
        "Escribir un programa que pregunte al usuario si quiere una pizza vegetariana o no, y en función de su respuesta le muestre un menú con los ingredientes disponibles para que elija. Solo se puede eligir un ingrediente además de la mozzarella y el tomate que están en todas la pizzas. Al final se debe mostrar por pantalla si la pizza elegida es vegetariana o no y todos los ingredientes que lleva."
      ],
      "metadata": {
        "id": "eQtLsQcCsIca"
      }
    },
    {
      "cell_type": "markdown",
      "source": [
        "#Bucles"
      ],
      "metadata": {
        "id": "MBUzbphaBmlk"
      }
    },
    {
      "cell_type": "markdown",
      "source": [
        "## Ejercicio 1\n",
        "Escribir un programa que pida al usuario una palabra y la muestre por pantalla 10 veces."
      ],
      "metadata": {
        "id": "AFQkcICglYMl"
      }
    },
    {
      "cell_type": "markdown",
      "source": [
        "## Ejercicio 2\n",
        "Escribir un programa que pregunte al usuario su edad y muestre por pantalla todos los años que ha cumplido (desde 1 hasta su edad)."
      ],
      "metadata": {
        "id": "n860ukbNldxw"
      }
    },
    {
      "cell_type": "markdown",
      "source": [
        "## Ejercicio 3\n",
        "Escribir un programa que pida al usuario un número entero positivo y muestre por pantalla todos los números impares desde 1 hasta ese número separados por comas."
      ],
      "metadata": {
        "id": "hQ-Mn2sOlkYs"
      }
    },
    {
      "cell_type": "markdown",
      "source": [
        "## Ejercicio 4\n",
        "Escribir un programa que pida al usuario un número entero positivo y muestre por pantalla la cuenta atrás desde ese número hasta cero separados por comas."
      ],
      "metadata": {
        "id": "3vtBhqOZlowD"
      }
    },
    {
      "cell_type": "markdown",
      "source": [
        "## Ejercicio 5\n",
        "Escribir un programa que pregunte al usuario una cantidad a invertir, el interés anual y el número de años, y muestre por pantalla el capital obtenido en la inversión cada año que dura la inversión. AÑADO QUE IMPRIMA EL INTERES"
      ],
      "metadata": {
        "id": "ojjIgM9NltC3"
      }
    },
    {
      "cell_type": "markdown",
      "source": [
        "## Ejercicio 6\n",
        "Escribir un programa que pida al usuario un número entero y muestre por pantalla un triángulo rectángulo como el de más abajo, de altura el número introducido.\n",
        "\n",
        "    *\n",
        "    **\n",
        "    ***\n",
        "    ****\n",
        "    *****\n"
      ],
      "metadata": {
        "id": "rOETvQ4zlw74"
      }
    },
    {
      "cell_type": "markdown",
      "source": [
        "## Ejercicio 7\n",
        "Escribir un programa que muestre por pantalla la tabla de multiplicar del 1 al 10."
      ],
      "metadata": {
        "id": "Cv9uhTErl6nO"
      }
    }
  ]
}