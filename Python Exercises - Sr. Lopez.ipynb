{
  "nbformat": 4,
  "nbformat_minor": 0,
  "metadata": {
    "colab": {
      "provenance": [],
      "mount_file_id": "1rf_UJXFDlCk1C5F2fXB7oKuNBIGwEktQ",
      "authorship_tag": "ABX9TyPecIBHVd/3dWHLedUiXFv6",
      "include_colab_link": true
    },
    "kernelspec": {
      "name": "python3",
      "display_name": "Python 3"
    },
    "language_info": {
      "name": "python"
    }
  },
  "cells": [
    {
      "cell_type": "markdown",
      "metadata": {
        "id": "view-in-github",
        "colab_type": "text"
      },
      "source": [
        "<a href=\"https://colab.research.google.com/github/SqueezeU/SqueezeU/blob/main/Python%20Exercises%20-%20Sr.%20Lopez.ipynb\" target=\"_parent\"><img src=\"https://colab.research.google.com/assets/colab-badge.svg\" alt=\"Open In Colab\"/></a>"
      ]
    },
    {
      "cell_type": "code",
      "execution_count": 7,
      "metadata": {
        "colab": {
          "base_uri": "https://localhost:8080/"
        },
        "id": "tV2RkSSteFhy",
        "outputId": "dd6d759f-1847-4784-d0e6-3b8d93482495"
      },
      "outputs": [
        {
          "output_type": "stream",
          "name": "stdout",
          "text": [
            "Ingrese el primer número: 5\n",
            "Ingrese el segundo número: 8\n",
            "5 dividido entre 8 da un cociente de 0 y un residuo de 5\n"
          ]
        }
      ],
      "source": [
        "# Exercise 1\n",
        "\n",
        "n = int(input(\"Ingrese el primer número: \"))\n",
        "m = int(input(\"Ingrese el segundo número: \"))\n",
        "\n",
        "cociente = n // m\n",
        "residuo = n % m\n",
        "\n",
        "print (f\"{n} dividido entre {m} da un cociente de {cociente} y un residuo de {residuo}\")\n",
        "\n",
        "# f stand for formatted string which allows you to embed variables directly within a string\n",
        "# {n}, {m}, {cociente}, {residuo}: These are placeholders that get replaced with the values of the corresponding variables\n",
        "# \"dividido entre\", \"da un cociente de\", \"y un residuo de\": These are literal string parts that make the output readable\n"
      ]
    },
    {
      "cell_type": "code",
      "source": [
        "# Exercise 2\n",
        "\n",
        "usuario = input(\"Ingrese su nombre: \")\n",
        "contraseña = input(\"Ingrese su contraseña: \")\n",
        "\n",
        "if usuario == (\"admin\") and contraseña == (\"admin123\"):\n",
        "    print (\"Acceso concedido: privilegios completos\")\n",
        "elif usuario == (\"usuario\") and contraseña == (\"usuario123\"):\n",
        "    print (\"Acceso concedido: privilegios limitadas\")\n",
        "elif (usuario == \"admin\" or usuario == \"usuario\") and (contraseña != \"admin123\" or contraseña != \"usuario123\"):\n",
        "    print (\"Acceso denegado: contraseña incorrecta\")\n",
        "else:\n",
        "    print (\"Acceso denegado: desconocido\")"
      ],
      "metadata": {
        "id": "TNihU-ORETVV",
        "outputId": "1277b1f4-89b2-4690-ee71-c0dd9beb9825",
        "colab": {
          "base_uri": "https://localhost:8080/"
        }
      },
      "execution_count": 16,
      "outputs": [
        {
          "output_type": "stream",
          "name": "stdout",
          "text": [
            "Ingrese su nombre: admin\n",
            "Ingrese su contraseña: admin123\n",
            "Acceso concedido: privilegios completos\n"
          ]
        }
      ]
    },
    {
      "cell_type": "code",
      "source": [],
      "metadata": {
        "id": "FJjTJIJwGBJU"
      },
      "execution_count": null,
      "outputs": []
    }
  ]
}