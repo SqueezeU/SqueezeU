{
  "nbformat": 4,
  "nbformat_minor": 0,
  "metadata": {
    "colab": {
      "provenance": [],
      "mount_file_id": "1rf_UJXFDlCk1C5F2fXB7oKuNBIGwEktQ",
      "authorship_tag": "ABX9TyM0uh7zTL/fD0kWippEdRLL",
      "include_colab_link": true
    },
    "kernelspec": {
      "name": "python3",
      "display_name": "Python 3"
    },
    "language_info": {
      "name": "python"
    }
  },
  "cells": [
    {
      "cell_type": "markdown",
      "metadata": {
        "id": "view-in-github",
        "colab_type": "text"
      },
      "source": [
        "<a href=\"https://colab.research.google.com/github/SqueezeU/SqueezeU/blob/main/Python%20Exercises%20-%20Sr.%20Lopez.ipynb\" target=\"_parent\"><img src=\"https://colab.research.google.com/assets/colab-badge.svg\" alt=\"Open In Colab\"/></a>"
      ]
    },
    {
      "cell_type": "code",
      "execution_count": 7,
      "metadata": {
        "colab": {
          "base_uri": "https://localhost:8080/"
        },
        "id": "tV2RkSSteFhy",
        "outputId": "dd6d759f-1847-4784-d0e6-3b8d93482495"
      },
      "outputs": [
        {
          "output_type": "stream",
          "name": "stdout",
          "text": [
            "Ingrese el primer número: 5\n",
            "Ingrese el segundo número: 8\n",
            "5 dividido entre 8 da un cociente de 0 y un residuo de 5\n"
          ]
        }
      ],
      "source": [
        "# Exercise 1\n",
        "\n",
        "n = int(input(\"Ingrese el primer número: \"))\n",
        "m = int(input(\"Ingrese el segundo número: \"))\n",
        "\n",
        "cociente = n // m\n",
        "residuo = n % m\n",
        "\n",
        "print (f\"{n} dividido entre {m} da un cociente de {cociente} y un residuo de {residuo}\")\n",
        "\n",
        "# f stand for formatted string which allows you to embed variables directly within a string\n",
        "# {n}, {m}, {cociente}, {residuo}: These are placeholders that get replaced with the values of the corresponding variables\n",
        "# \"dividido entre\", \"da un cociente de\", \"y un residuo de\": These are literal string parts that make the output readable\n"
      ]
    },
    {
      "cell_type": "code",
      "source": [
        "# Exercise 2\n",
        "\n",
        "usuario = input(\"Ingrese su nombre: \")\n",
        "contraseña = input(\"Ingrese su contraseña: \")\n",
        "\n",
        "if usuario == (\"admin\") and contraseña == (\"admin123\"):\n",
        "    print (\"Acceso concedido: privilegios completos\")\n",
        "elif usuario == (\"usuario\") and contraseña == (\"usuario123\"):\n",
        "    print (\"Acceso concedido: privilegios limitadas\")\n",
        "elif (usuario == \"admin\" or usuario == \"usuario\") and (contraseña != \"admin123\" or contraseña != \"usuario123\"):\n",
        "    print (\"Acceso denegado: contraseña incorrecta\")\n",
        "else:\n",
        "    print (\"Acceso denegado: desconocido\")"
      ],
      "metadata": {
        "colab": {
          "base_uri": "https://localhost:8080/"
        },
        "id": "TNihU-ORETVV",
        "outputId": "e8dfdf13-33b3-453f-c10b-4a32c0671c82"
      },
      "execution_count": 2,
      "outputs": [
        {
          "output_type": "stream",
          "name": "stdout",
          "text": [
            "Ingrese su nombre: Errol\n",
            "Ingrese su contraseña: Dickö\n",
            "Acceso denegado: desconocido\n"
          ]
        }
      ]
    },
    {
      "cell_type": "code",
      "source": [
        "# Schlüsselwörter wie for oder if etc immer klein schreiben\n",
        "# range(10) bedeutet 0-9 - es wird immer bei 0 angefangen\n",
        "for number in range(10):\n",
        "    print(number)"
      ],
      "metadata": {
        "id": "FJjTJIJwGBJU"
      },
      "execution_count": null,
      "outputs": []
    },
    {
      "cell_type": "code",
      "source": [
        "#range(3, 9) bedeutet fange bei der kleinen Zahl an und höre 1 unter der gro0en Zahl auf\n",
        "for number in range(3, 9):\n",
        "    print(number)"
      ],
      "metadata": {
        "id": "TEpSW5xVGETI",
        "outputId": "4ec3ee62-74e3-4fc3-816f-ea1dded32bcb",
        "colab": {
          "base_uri": "https://localhost:8080/"
        }
      },
      "execution_count": 10,
      "outputs": [
        {
          "output_type": "stream",
          "name": "stdout",
          "text": [
            "3\n",
            "4\n",
            "5\n",
            "6\n",
            "7\n",
            "8\n"
          ]
        }
      ]
    },
    {
      "cell_type": "code",
      "source": [
        "# range(3, 9, 2) bedeutet fange bei der kleinen Zahl an, zähle in 2er Schritten\n",
        "# bis zur gewünschten großen Zahl, aber höre einen Schritt davor auf\n",
        "for number in range(3, 9, 2):\n",
        "    print(number)"
      ],
      "metadata": {
        "id": "NNuNEHIgAhii",
        "outputId": "e9f08641-42a3-49b4-b090-7b1177667c12",
        "colab": {
          "base_uri": "https://localhost:8080/"
        }
      },
      "execution_count": 25,
      "outputs": [
        {
          "output_type": "stream",
          "name": "stdout",
          "text": [
            "3\n",
            "5\n",
            "7\n"
          ]
        }
      ]
    },
    {
      "cell_type": "code",
      "source": [
        "# range(10, 0, -2) bedeutet fange bei der großen Zahl an und zähle in 2er\n",
        "# Schritten nach unten bis zur kleinen Zahl, höre aber einen Schritt davor auf\n",
        "for number in range(10, 0, -2):\n",
        "    print(number)"
      ],
      "metadata": {
        "id": "IdaoH7VL_tz6",
        "outputId": "0c61e721-02b6-4197-b1e9-c08f5ebefb62",
        "colab": {
          "base_uri": "https://localhost:8080/"
        }
      },
      "execution_count": 30,
      "outputs": [
        {
          "output_type": "stream",
          "name": "stdout",
          "text": [
            "10\n",
            "8\n",
            "6\n",
            "4\n",
            "2\n"
          ]
        }
      ]
    },
    {
      "cell_type": "code",
      "source": [
        "# hier erfolgt die Aufzählung Vertikal\n",
        "lista = [\"apple\", \"banana\", \"cherry\"]\n",
        "for fruit in lista:\n",
        "    print(fruit)"
      ],
      "metadata": {
        "id": "K-gx0dRYKqtP",
        "outputId": "9385b919-ec24-4445-b247-05ce83a301f1",
        "colab": {
          "base_uri": "https://localhost:8080/"
        }
      },
      "execution_count": 33,
      "outputs": [
        {
          "output_type": "stream",
          "name": "stdout",
          "text": [
            "apple\n",
            "banana\n",
            "cherry\n"
          ]
        }
      ]
    },
    {
      "cell_type": "code",
      "source": [
        "# hier erfolgt die Aufzählung Horizontal (end=\" \")\n",
        "lista = 1, 2, 3, 4, 5 # ohne Klammern ist dies einfach eine Aufzählung von Zahlen, Objekten etc. die keinen Zusammenhang haben\n",
        "lista = (1, 2, 3, 4, 5) # runde Klammern () ist eine Aufzählung von Zahlen, Objekten etc. die nicht verändert werden kann\n",
        "lista = [1, 2, 3, 4, 5] # eckige Klammern [] ist dies einfach eine Aufzählung von Zahlen, Objekten etc. die veränderlich sein können\n",
        "for number in lista:\n",
        "    print(number, end=\" \") # hier erfolgt die Aufzählung Horizontal"
      ],
      "metadata": {
        "id": "E0meoZeUK-ii",
        "outputId": "a59bd379-c1a3-4851-8485-44191c51f895",
        "colab": {
          "base_uri": "https://localhost:8080/"
        }
      },
      "execution_count": 43,
      "outputs": [
        {
          "output_type": "stream",
          "name": "stdout",
          "text": [
            "1 2 3 4 5 "
          ]
        }
      ]
    },
    {
      "cell_type": "code",
      "source": [
        "#"
      ],
      "metadata": {
        "id": "cYHmDel2agjo"
      },
      "execution_count": null,
      "outputs": []
    }
  ]
}