{
  "nbformat": 4,
  "nbformat_minor": 0,
  "metadata": {
    "colab": {
      "provenance": [],
      "mount_file_id": "1rf_UJXFDlCk1C5F2fXB7oKuNBIGwEktQ",
      "authorship_tag": "ABX9TyOoGniIAJMyGPtstcD96rOO",
      "include_colab_link": true
    },
    "kernelspec": {
      "name": "python3",
      "display_name": "Python 3"
    },
    "language_info": {
      "name": "python"
    }
  },
  "cells": [
    {
      "cell_type": "markdown",
      "metadata": {
        "id": "view-in-github",
        "colab_type": "text"
      },
      "source": [
        "<a href=\"https://colab.research.google.com/github/SqueezeU/SqueezeU/blob/main/Python%20Exercises%20-%20Sr.%20Lopez.ipynb\" target=\"_parent\"><img src=\"https://colab.research.google.com/assets/colab-badge.svg\" alt=\"Open In Colab\"/></a>"
      ]
    },
    {
      "cell_type": "markdown",
      "source": [],
      "metadata": {
        "id": "UnhtZHPArVpd"
      }
    },
    {
      "cell_type": "markdown",
      "source": [
        "# **Exercise 1**\n",
        "\n",
        "#Task:\n",
        "\n",
        "Escriba un programa que pide al usuario dos numeros enteros y muestre en la pantalla: n dividido entre m da un cociente de ??? y un residuo de ??? donde n y m son los numeros ingresadas por el usuario\n",
        "\n",
        "#Solution:"
      ],
      "metadata": {
        "id": "bb0KOpBXrYcT"
      }
    },
    {
      "cell_type": "code",
      "execution_count": null,
      "metadata": {
        "colab": {
          "base_uri": "https://localhost:8080/"
        },
        "id": "tV2RkSSteFhy",
        "outputId": "14aa5d30-9160-4a2b-bde6-4f58c64372ee"
      },
      "outputs": [
        {
          "output_type": "stream",
          "name": "stdout",
          "text": [
            "Ingrese el primer número: 5\n",
            "Ingrese el segundo número: 5\n",
            "5 dividido entre 5 da un cociente de 1 y un residuo de 0\n"
          ]
        }
      ],
      "source": [
        "n = int(input(\"Ingrese el primer número: \"))\n",
        "m = int(input(\"Ingrese el segundo número: \"))\n",
        "\n",
        "cociente = n // m #just the int number before a possible comma; rest after comma gets cutted off\n",
        "residuo = n % m #just the rest what remains after a division, e.g. 9 / 5 = rest 4 -- 4 / 6 = rest 0\n",
        "\n",
        "print (f\"{n} dividido entre {m} da un cociente de {cociente} y un residuo de {residuo}\")\n",
        "\n",
        "# f stand for formatted string which allows you to embed variables directly within a string\n",
        "# {n}, {m}, {cociente}, {residuo}: These are placeholders that get replaced with the values of the corresponding variables\n",
        "# \"dividido entre\", \"da un cociente de\", \"y un residuo de\": These are literal string parts that make the output readable\n"
      ]
    },
    {
      "cell_type": "markdown",
      "source": [
        "# **Exercise 2**\n",
        "\n",
        "#Task:\n",
        "\n",
        "Escriba un programa que simule un sistema basico de control de acceso para un area segura, el programa debe:\n",
        "\n",
        "A) usuario admin - contrasenya admin123 Acceso concedido privilegios completo\n",
        "\n",
        "B) usuario usuario - contrasenya usuario123 Acceso concedido privilegios limitadas\n",
        "\n",
        "C) Si el nombre de usuario es correcto pero la contrasenya es incorrecta Acceso denegado contrasenya incorrecta\n",
        "\n",
        "D) todo otro Acceso denegado usuario desconocido\n",
        "\n",
        "#Solution:"
      ],
      "metadata": {
        "id": "nzTfQ92yrtN7"
      }
    },
    {
      "cell_type": "code",
      "source": [
        "usuario = input(\"Ingrese su nombre: \")\n",
        "contraseña = input(\"Ingrese su contraseña: \")\n",
        "\n",
        "if usuario == (\"admin\") and contraseña == (\"admin123\"):\n",
        "    print (\"Acceso concedido: privilegios completos\")\n",
        "elif usuario == (\"usuario\") and contraseña == (\"usuario123\"):\n",
        "    print (\"Acceso concedido: privilegios limitadas\")\n",
        "elif (usuario == \"admin\" or usuario == \"usuario\") and (contraseña != \"admin123\" or contraseña != \"usuario123\"):\n",
        "    print (\"Acceso denegado: contraseña incorrecta\")\n",
        "else:\n",
        "    print (\"Acceso denegado: desconocido\")"
      ],
      "metadata": {
        "colab": {
          "base_uri": "https://localhost:8080/"
        },
        "id": "TNihU-ORETVV",
        "outputId": "6ba7a332-9ed7-4ce5-aa74-045ca20313bc"
      },
      "execution_count": null,
      "outputs": [
        {
          "output_type": "stream",
          "name": "stdout",
          "text": [
            "Ingrese su nombre: Errol\n",
            "Ingrese su contraseña: dito\n",
            "Acceso denegado: desconocido\n"
          ]
        }
      ]
    },
    {
      "cell_type": "markdown",
      "source": [
        "# **Exercise 3**\n",
        "\n",
        "# Task:\n",
        "\n",
        "Itere con un bucle for desde el numero 1 hasta el numero 100 y realice los\n",
        "siguientes operaciones.\n",
        "\n",
        "1) Suma acumulada:\n",
        "mantenga un contador de suma acumulada que comience en 0\n",
        "A medida que recorra los números, agregue los números pares a este contador\n",
        "\n",
        "2) Condición de detención:\n",
        "Si la suma acumulada alcanza o superar 100, imprime un mensaje de advertencia\n",
        "y use break para salir del bucle\n",
        "\n",
        "3) Imprimir la suma acumulada final después de terminar el bucle\n",
        "\n",
        "# Solution:"
      ],
      "metadata": {
        "id": "fPZDxGS2qB9b"
      }
    },
    {
      "cell_type": "code",
      "source": [
        "# Inicializamos la suma acumulada en 0\n",
        "suma_acumulada = 0\n",
        "\n",
        "# Iteramos desde el número 1 hasta el 100\n",
        "for numero in range(1, 101):\n",
        "    print(f\"en el paso {numero}, la suma acumulada de numero pares es: {suma_acumulada}\")\n",
        "\n",
        "    # Si el número es par, lo sumamos a la suma acumulada\n",
        "    if numero % 2 == 0:\n",
        "        suma_acumulada += numero\n",
        "\n",
        "    # Si la suma acumulada es mayor o igual a 100, detenemos el bucle\n",
        "    if suma_acumulada >= 100:\n",
        "        print(f\"La suma acumulada ha alcanzado o superado 100 (valor: {suma_acumulada}) en el paso {numero}\")\n",
        "        break\n",
        "\n",
        "# Mostrar la suma acumulada final después de terminar el bucle\n",
        "print(f\"Suma acumulada final: {suma_acumulada}\")"
      ],
      "metadata": {
        "colab": {
          "base_uri": "https://localhost:8080/"
        },
        "id": "yTzrQA1Sp1HL",
        "outputId": "744fe673-a511-41b2-930a-754895c3b769"
      },
      "execution_count": null,
      "outputs": [
        {
          "output_type": "stream",
          "name": "stdout",
          "text": [
            "en el paso 1, la suma acumulada de numero pares es: 0\n",
            "en el paso 2, la suma acumulada de numero pares es: 0\n",
            "en el paso 3, la suma acumulada de numero pares es: 2\n",
            "en el paso 4, la suma acumulada de numero pares es: 2\n",
            "en el paso 5, la suma acumulada de numero pares es: 6\n",
            "en el paso 6, la suma acumulada de numero pares es: 6\n",
            "en el paso 7, la suma acumulada de numero pares es: 12\n",
            "en el paso 8, la suma acumulada de numero pares es: 12\n",
            "en el paso 9, la suma acumulada de numero pares es: 20\n",
            "en el paso 10, la suma acumulada de numero pares es: 20\n",
            "en el paso 11, la suma acumulada de numero pares es: 30\n",
            "en el paso 12, la suma acumulada de numero pares es: 30\n",
            "en el paso 13, la suma acumulada de numero pares es: 42\n",
            "en el paso 14, la suma acumulada de numero pares es: 42\n",
            "en el paso 15, la suma acumulada de numero pares es: 56\n",
            "en el paso 16, la suma acumulada de numero pares es: 56\n",
            "en el paso 17, la suma acumulada de numero pares es: 72\n",
            "en el paso 18, la suma acumulada de numero pares es: 72\n",
            "en el paso 19, la suma acumulada de numero pares es: 90\n",
            "en el paso 20, la suma acumulada de numero pares es: 90\n",
            "La suma acumulada ha alcanzado o superado 100 (valor: 110) en el paso 20\n",
            "Suma acumulada final: 110\n"
          ]
        }
      ]
    },
    {
      "cell_type": "markdown",
      "source": [
        "# **Exercise 4**\n",
        "# Task:\n",
        "Escribe una funcion llamada calcular_promedio que reciba tres notas del usuario con valores enteros del 0 al 100 y realice lo siguiente.\n",
        "\n",
        "1) Calcular el promedio de las notas\n",
        "\n",
        "2) Determinar la calificacion final basado en el promedio\n",
        "\n",
        "a) promedio >= 90 cal = A\n",
        "\n",
        "b) promedio >= 80 cal y < 90 cal = B\n",
        "\n",
        "c) promedio >= 70 cal y < 80 cal = C\n",
        "\n",
        "d) promedio >= 60 cal y < 70 cal = D\n",
        "\n",
        "e) promedio < 60 cal = E\n",
        "\n",
        "3) Devolver la calificacion obtenida\n",
        "\n",
        "4) Escribe una funcion llamada evaluar_estudiante que pide al usuario ingresar 3 notas y luego llame a calcular _promedio para determinar calificacion\n",
        "\n",
        "# Solution:"
      ],
      "metadata": {
        "id": "nqoMeO5RDHmf"
      }
    },
    {
      "cell_type": "code",
      "source": [
        "# zuerst Funktion mit den Variablen definieren\n",
        "def calcular_promedio(nota1, nota2, nota3):\n",
        "\n",
        "    # 1) Durchschnitt der Noten berechnen\n",
        "    promedio = (nota1 + nota2 + nota3) / 3\n",
        "\n",
        "    # 2) Bewertung des Durchschnitt festlegen\n",
        "    if promedio >= 90:\n",
        "        calificacion = \"A\"\n",
        "    elif promedio >= 80:\n",
        "        calificacion = \"B\"\n",
        "    elif promedio >= 70:\n",
        "        calificacion = \"C\"\n",
        "    elif promedio >= 60:\n",
        "        calificacion = \"D\"\n",
        "    else:\n",
        "        calificacion = \"E\"\n",
        "\n",
        "    # 3) Bewertung anzeigen\n",
        "    return calificacion\n",
        "\n",
        "# Funktion zur Eingabe der Noten festlegen\n",
        "def evaluar_estudiante():\n",
        "    # 4) Noten eingeben lassen - mit int damit es als Ganzzahlen erkannt wird\n",
        "    nota1 = int(input(\"Gib die erste Note ein (0-100): \"))\n",
        "    nota2 = int(input(\"Gib die zweite Note ein (0-100): \"))\n",
        "    nota3 = int(input(\"Gib die dritte Note ein (0-100): \"))\n",
        "\n",
        "    # Bewertung berechnen lassen\n",
        "    calificacion_final = calcular_promedio(nota1, nota2, nota3)\n",
        "\n",
        "    # Endbewertung anzeigen\n",
        "    print(f\"Die finale Bewertung ist: {calificacion_final}\")\n",
        "\n",
        "# Aufruf der Funktion evaluieren, da nur deklarieren und berechnen nicht reicht\n",
        "evaluar_estudiante()"
      ],
      "metadata": {
        "id": "F09_Kc4kDUgn",
        "outputId": "3738d3d0-58d7-4983-9134-651575027100",
        "colab": {
          "base_uri": "https://localhost:8080/"
        }
      },
      "execution_count": null,
      "outputs": [
        {
          "output_type": "stream",
          "name": "stdout",
          "text": [
            "Gib die erste Note ein (0-100): 68\n",
            "Gib die zweite Note ein (0-100): 75\n",
            "Gib die dritte Note ein (0-100): 92\n",
            "Die finale Bewertung ist: C\n"
          ]
        }
      ]
    },
    {
      "cell_type": "markdown",
      "source": [
        "#**Exercise 5**\n",
        "\n",
        "#Task:\n",
        "\n",
        "Crear una clase Python que representa una cuenta bancaria. Cada cuenta tendra las siguientes caracteristicas:\n",
        "\n",
        "1.   Nombre del titular de la cuenta (cadena)\n",
        "2.   Saldo (float)\n",
        "\n",
        "La clase debe que tener los siguientes metodos:\n",
        "\n",
        "*   deposit (amount): Este metodo anadira una\n",
        "cantidad determinada al saldo.\n",
        "*   reatreat (amount): Este metodo restara una cantidad determinada del saldo. No debe permitir retiros que excedan el saldo.\n",
        "*   ver_balance(): Este metodo mostrara el saldo actual\n",
        "# Solution:"
      ],
      "metadata": {
        "id": "YVuKoZfGVEKv"
      }
    },
    {
      "cell_type": "code",
      "source": [
        "class BankAccount: # Erstellen der Klasse Konto\n",
        "    def __init__(self, titular, saldo=0.0): # Atrribute Kontoinhaber und Saldo\n",
        "        self.titular = titular\n",
        "        self.saldo = saldo\n",
        "\n",
        "    def deposit(self, amount):\n",
        "     # Methode zur Einzahlung\n",
        "        if amount > 0:\n",
        "           self.saldo += amount # Alternative wäre self.saldo = selfsaldo + amount\n",
        "           print(f\"Deposit successful! New balance: {self.saldo}\")\n",
        "        else:\n",
        "           print(\"Invalid >>> Amount has to be positive.\") # falls die Abhebung/Auszahlung höher als der Kontostand\n",
        "\n",
        "        # Methode für Abhebung/Auszahlung\n",
        "    def withdraw(self, amount):\n",
        "        if amount <= self.saldo and amount > 0: # Falls die Abhebung/Auszahlung nicht höher als der Kontostand ist...\n",
        "            self.saldo -= amount # ...dann Saldo minus Abhebung/Auszahlung\n",
        "            print(f\"Withdrawal successful! New balance: {self.saldo}\")\n",
        "        elif amount <= 0:\n",
        "            print(\"Not possible - Saldo has to remain positive\")\n",
        "        else:\n",
        "            print(\"Saldo insuficiente\")\n",
        "\n",
        "    def ver_balance(self):\n",
        "         #Methode zur Anzeige des Kontostands\n",
        "          print(f\"Current balance: {self.saldo}\")\n",
        "\n",
        "# Sugestion from ChatGPT\n",
        "# Create an instance of the BankAccount class\n",
        "my_account = BankAccount(\"Max Mustermann\", 1000)\n",
        "\n",
        "# Interact with the account\n",
        "while True:\n",
        "    action = input(\"What do you want to do? (deposit, withdraw, balance, exit): \").lower()\n",
        "\n",
        "    if action == \"deposit\":\n",
        "        amount = float(input(\"Enter deposit amount: \"))\n",
        "        my_account.deposit(amount)\n",
        "\n",
        "    elif action == \"withdraw\":\n",
        "        amount = float(input(\"Enter withdrawal amount: \"))\n",
        "        my_account.withdraw(amount)\n",
        "    elif action == \"balance\":\n",
        "        my_account.ver_balance()\n",
        "    elif action == \"exit\":\n",
        "        break\n",
        "    else:\n",
        "        print(\"Invalid action. Please choose from: deposit, withdraw, balance, exit\")\n",
        "\n",
        "print(\"Thank you for using the bank account!\")"
      ],
      "metadata": {
        "id": "OyNgVTmuVOUO"
      },
      "execution_count": null,
      "outputs": []
    },
    {
      "cell_type": "code",
      "source": [],
      "metadata": {
        "id": "KoHa-ugBsc17"
      },
      "execution_count": null,
      "outputs": []
    },
    {
      "cell_type": "code",
      "source": [],
      "metadata": {
        "id": "WM9AXIPefRbt"
      },
      "execution_count": null,
      "outputs": []
    }
  ]
}