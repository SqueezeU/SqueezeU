{
  "nbformat": 4,
  "nbformat_minor": 0,
  "metadata": {
    "colab": {
      "provenance": [],
      "mount_file_id": "1rf_UJXFDlCk1C5F2fXB7oKuNBIGwEktQ",
      "authorship_tag": "ABX9TyPDsVmRrSgzEukGw8g1C9g1",
      "include_colab_link": true
    },
    "kernelspec": {
      "name": "python3",
      "display_name": "Python 3"
    },
    "language_info": {
      "name": "python"
    }
  },
  "cells": [
    {
      "cell_type": "markdown",
      "metadata": {
        "id": "view-in-github",
        "colab_type": "text"
      },
      "source": [
        "<a href=\"https://colab.research.google.com/github/SqueezeU/SqueezeU/blob/main/Python%20Exercises%20-%20Sr.%20Lopez.ipynb\" target=\"_parent\"><img src=\"https://colab.research.google.com/assets/colab-badge.svg\" alt=\"Open In Colab\"/></a>"
      ]
    },
    {
      "cell_type": "code",
      "execution_count": null,
      "metadata": {
        "colab": {
          "base_uri": "https://localhost:8080/"
        },
        "id": "tV2RkSSteFhy",
        "outputId": "dd6d759f-1847-4784-d0e6-3b8d93482495"
      },
      "outputs": [
        {
          "output_type": "stream",
          "name": "stdout",
          "text": [
            "Ingrese el primer número: 5\n",
            "Ingrese el segundo número: 8\n",
            "5 dividido entre 8 da un cociente de 0 y un residuo de 5\n"
          ]
        }
      ],
      "source": [
        "# Exercise 1\n",
        "\n",
        "n = int(input(\"Ingrese el primer número: \"))\n",
        "m = int(input(\"Ingrese el segundo número: \"))\n",
        "\n",
        "cociente = n // m\n",
        "residuo = n % m\n",
        "\n",
        "print (f\"{n} dividido entre {m} da un cociente de {cociente} y un residuo de {residuo}\")\n",
        "\n",
        "# f stand for formatted string which allows you to embed variables directly within a string\n",
        "# {n}, {m}, {cociente}, {residuo}: These are placeholders that get replaced with the values of the corresponding variables\n",
        "# \"dividido entre\", \"da un cociente de\", \"y un residuo de\": These are literal string parts that make the output readable\n"
      ]
    },
    {
      "cell_type": "code",
      "source": [
        "# Exercise 2\n",
        "\n",
        "usuario = input(\"Ingrese su nombre: \")\n",
        "contraseña = input(\"Ingrese su contraseña: \")\n",
        "\n",
        "if usuario == (\"admin\") and contraseña == (\"admin123\"):\n",
        "    print (\"Acceso concedido: privilegios completos\")\n",
        "elif usuario == (\"usuario\") and contraseña == (\"usuario123\"):\n",
        "    print (\"Acceso concedido: privilegios limitadas\")\n",
        "elif (usuario == \"admin\" or usuario == \"usuario\") and (contraseña != \"admin123\" or contraseña != \"usuario123\"):\n",
        "    print (\"Acceso denegado: contraseña incorrecta\")\n",
        "else:\n",
        "    print (\"Acceso denegado: desconocido\")"
      ],
      "metadata": {
        "colab": {
          "base_uri": "https://localhost:8080/"
        },
        "id": "TNihU-ORETVV",
        "outputId": "e8dfdf13-33b3-453f-c10b-4a32c0671c82"
      },
      "execution_count": null,
      "outputs": [
        {
          "output_type": "stream",
          "name": "stdout",
          "text": [
            "Ingrese su nombre: Errol\n",
            "Ingrese su contraseña: Dickö\n",
            "Acceso denegado: desconocido\n"
          ]
        }
      ]
    },
    {
      "cell_type": "code",
      "source": [
        "# Exercise 3\n",
        "\n",
        "#Task:\n",
        "\n",
        "#Itere con un bucle for desde el numero 1 hasta el numero 100 y realice los\n",
        "#siguientes operaciones.\n",
        "\n",
        "# 1) Suma acumulada:\n",
        "# mantenga un contador de suma acumulada que comience en 0\n",
        "# A medida que recorra los números, agregue los números pares a este contador\n",
        "\n",
        "# 2) Condición de detención:\n",
        "# Si la suma acumulada alcanza o superar 100, imprime un mensaje de advertencia\n",
        "# y use break para salir del bucle\n",
        "\n",
        "#3) Imprimir la suma acumulada final después de terminar el bucle\n",
        "\n",
        "# Inicializamos la suma acumulada en 0\n",
        "suma_acumulada = 0\n",
        "\n",
        "# Iteramos desde el número 1 hasta el 100\n",
        "for numero in range(1, 101):\n",
        "    print(f\"en el paso {numero}, la suma acumulada de numero pares es: {suma_acumulada}\")\n",
        "\n",
        "    # Si el número es par, lo sumamos a la suma acumulada\n",
        "    if numero % 2 == 0:\n",
        "        suma_acumulada += numero\n",
        "\n",
        "    # Si la suma acumulada es mayor o igual a 100, detenemos el bucle\n",
        "    if suma_acumulada >= 100:\n",
        "        print(f\"La suma acumulada ha alcanzado o superado 100 (valor: {suma_acumulada}) en el paso {numero}\")\n",
        "        break\n",
        "\n",
        "# Mostrar la suma acumulada final después de terminar el bucle\n",
        "print(f\"Suma acumulada final: {suma_acumulada}\")"
      ],
      "metadata": {
        "colab": {
          "base_uri": "https://localhost:8080/"
        },
        "id": "yTzrQA1Sp1HL",
        "outputId": "327aa09b-f513-47c3-84c2-fb7e9ad332bd"
      },
      "execution_count": 1,
      "outputs": [
        {
          "output_type": "stream",
          "name": "stdout",
          "text": [
            "en el paso 1, la suma acumulada de numero pares es: 0\n",
            "en el paso 2, la suma acumulada de numero pares es: 0\n",
            "en el paso 3, la suma acumulada de numero pares es: 2\n",
            "en el paso 4, la suma acumulada de numero pares es: 2\n",
            "en el paso 5, la suma acumulada de numero pares es: 6\n",
            "en el paso 6, la suma acumulada de numero pares es: 6\n",
            "en el paso 7, la suma acumulada de numero pares es: 12\n",
            "en el paso 8, la suma acumulada de numero pares es: 12\n",
            "en el paso 9, la suma acumulada de numero pares es: 20\n",
            "en el paso 10, la suma acumulada de numero pares es: 20\n",
            "en el paso 11, la suma acumulada de numero pares es: 30\n",
            "en el paso 12, la suma acumulada de numero pares es: 30\n",
            "en el paso 13, la suma acumulada de numero pares es: 42\n",
            "en el paso 14, la suma acumulada de numero pares es: 42\n",
            "en el paso 15, la suma acumulada de numero pares es: 56\n",
            "en el paso 16, la suma acumulada de numero pares es: 56\n",
            "en el paso 17, la suma acumulada de numero pares es: 72\n",
            "en el paso 18, la suma acumulada de numero pares es: 72\n",
            "en el paso 19, la suma acumulada de numero pares es: 90\n",
            "en el paso 20, la suma acumulada de numero pares es: 90\n",
            "La suma acumulada ha alcanzado o superado 100 (valor: 110) en el paso 20\n",
            "Suma acumulada final: 110\n"
          ]
        }
      ]
    }
  ]
}