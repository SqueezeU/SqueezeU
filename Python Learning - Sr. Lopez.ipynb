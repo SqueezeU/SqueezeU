{
  "nbformat": 4,
  "nbformat_minor": 0,
  "metadata": {
    "colab": {
      "provenance": [],
      "authorship_tag": "ABX9TyP8qmbHAdnit8Kh1AyfUGf7",
      "include_colab_link": true
    },
    "kernelspec": {
      "name": "python3",
      "display_name": "Python 3"
    },
    "language_info": {
      "name": "python"
    }
  },
  "cells": [
    {
      "cell_type": "markdown",
      "metadata": {
        "id": "view-in-github",
        "colab_type": "text"
      },
      "source": [
        "<a href=\"https://colab.research.google.com/github/SqueezeU/SqueezeU/blob/main/Python%20Learning%20-%20Sr.%20Lopez.ipynb\" target=\"_parent\"><img src=\"https://colab.research.google.com/assets/colab-badge.svg\" alt=\"Open In Colab\"/></a>"
      ]
    },
    {
      "cell_type": "code",
      "source": [
        "# Ausgabe am Bildschirm mittels print\n",
        "# wenn wir nichts konkretes angeben werden alle Eingaben als Text behandelt\n",
        "# trotzdem sind Textanweisungen immer in Anführungszeichen zu setzen \"...\"\n",
        "print(\"Hallo \")\n",
        "print(\"Ximena, Avril, Octavio, Robert\")\n",
        "\n",
        "# wenn man einen anderen Seperator möchte, benutzt man sep = \"...\"\n",
        "print(\"Ximena\", \"Avril\", \"Octavio\", \"Robert\", sep = \" - \")\n",
        "\n",
        "# und für ein spezielles Satzende benutzt man end = \"...\"\n",
        "print(\"Ximena\", \"Avril\", \"Octavio\", \"Robert\", sep = \" - \", end = \" ! \")"
      ],
      "metadata": {
        "id": "8xEzgu6yDCB-"
      },
      "execution_count": null,
      "outputs": []
    },
    {
      "cell_type": "code",
      "source": [
        "# Eingabeaufforderung an den User mittels input\n",
        "\n",
        "print(\"Wie ist dein Name? \")\n",
        "name = input()\n",
        "print(\"Hallo \" + name)\n",
        "\n",
        "# eine weitere Möglichkeit wäre\n",
        "\n",
        "name = input(\"Wie ist dein Name? \")\n",
        "print(\"Hallo \" + name)"
      ],
      "metadata": {
        "id": "j6HTquznI5-e"
      },
      "execution_count": null,
      "outputs": []
    },
    {
      "cell_type": "code",
      "execution_count": null,
      "metadata": {
        "id": "nFV1YyDOcKW1"
      },
      "outputs": [],
      "source": [
        "# Integer, Float, Tuple, String, Complex, Boolean\n",
        "\n",
        "a = 1\n",
        "b = 3.5\n",
        "c = 3,5\n",
        "d = \"Hallo\"\n",
        "e = 3+5j\n",
        "\n",
        "print (type(a))\n",
        "print (type(b))\n",
        "print (type(c))\n",
        "print (type(d))\n",
        "print (type(e))\n"
      ]
    },
    {
      "cell_type": "code",
      "source": [
        "# Abfragen\n",
        "\n",
        "numero1 = input(\"Gib eine Zahl ein: \")\n",
        "numero2 = input(\"Gib eine zweite Zahl ein: \")\n",
        "\n",
        "print (numero1 + numero2)\n",
        "# hier interpretiert Python die Zahlen 5 und 7 als Text, deswegen schreibt er sie einfach hintereinander - Ausgabe 57\n",
        "\n",
        "# wenn ich möchte das Python 5 und 7 addiert, dann muss ich ihm mitteilen das es sich um Zahlen handelt - Ausgabe 12\n",
        "print (int(numero1) + int(numero2))\n"
      ],
      "metadata": {
        "id": "3ujvtRVae1ke"
      },
      "execution_count": null,
      "outputs": []
    },
    {
      "cell_type": "code",
      "source": [
        "# Rechenoperationen - mathematische Berechnungen\n",
        "\n",
        "x = 5\n",
        "y = 7\n",
        "\n",
        "print (x+y) # Addition 5 + 7\n",
        "print (x-y) # Subtraktion 5 - 7\n",
        "print (x*y) # Multiplikation 5 * 7\n",
        "print (x/y) # Division 5 / 7\n",
        "print (x**y) # Potenz 5 hoch 7 also 5x5x5x5x5x5x5\n",
        "print (x%y) # Rest der Divison 5 / 7 geht nicht also Rest 5 - wären die Zahlen 11 und 4 dann wäre das Ergebnis 3 weil 4 in 11 2x reingeht (=8) und dann 3 übrigbleiben bis 11\n",
        "print (x//y) # Ganzzahlige Division 5 / 7 hier wird nach der Division alles nach dem Komma einfach abgeschnitten und nur die Ganzzahl vor dem Komma angezeigt\n"
      ],
      "metadata": {
        "id": "9f4OlxysmcFC"
      },
      "execution_count": null,
      "outputs": []
    },
    {
      "cell_type": "code",
      "source": [
        "# Rechenoperationen - Wertzuweisungen\n",
        "\n",
        "x = 5\n",
        "y = 7\n",
        "\n",
        "x += y # x = x + y\n",
        "print (x)\n",
        "\n",
        "x -= y # x = x - y\n",
        "print (x)\n",
        "\n",
        "x *= y # x = x * y\n",
        "print (x)\n",
        "\n",
        "x /= y # x = x / y\n",
        "print (x)\n",
        "\n",
        "x **= y # x = x ** y\n",
        "print (x)\n",
        "\n",
        "x %= y # x = x % y\n",
        "print (x)\n",
        "\n",
        "x //= y # x = x // y\n",
        "print (x)\n"
      ],
      "metadata": {
        "id": "SooDI801rihg"
      },
      "execution_count": null,
      "outputs": []
    },
    {
      "cell_type": "code",
      "source": [
        "# vergleichende Rechenoperationen - arbeiten mit dem Wert Wahr oder Falsch\n",
        "\n",
        "x = 5\n",
        "y = 7\n",
        "\n",
        "print (x == y) # Gleich\n",
        "print (x != y) # Ungleich\n",
        "print (x > y) # Größer\n",
        "print (x < y) # Kleiner\n",
        "print (x >= y) # Größer oder gleich\n",
        "print (x <= y) # Kleiner oder gleich"
      ],
      "metadata": {
        "id": "PZixw8WsqIOQ"
      },
      "execution_count": null,
      "outputs": []
    },
    {
      "cell_type": "code",
      "source": [
        "# logische Rechenoperatoren werden verwendet um Bedingungen zu kombinieren und zu bewerten\n",
        "\n",
        "# not: dieser Operator kehrt den Wahrheitswert eines Ausdrucks um. Wenn der Ausdruck True ist, wird er durch \"not\" zu False und umgekehrt\n",
        "a = True\n",
        "print(not a)  # Ausgabe: False\n",
        "\n",
        "# and: dieser Operator gibt True zurück, wenn beide Ausdrücke True sind. Wenn einer der Ausdrücke False ist, gibt er False zurück\n",
        "a = True\n",
        "b = False\n",
        "print(a and b)  # Ausgabe: False\n",
        "\n",
        "# or: dieser Operator gibt True zurück, wenn mindestens einer der Ausdrücke True ist. Er gibt nur False zurück, wenn beide Ausdrücke False sind\n",
        "a = True\n",
        "b = False\n",
        "print(a or b)  # Ausgabe: True"
      ],
      "metadata": {
        "id": "Zm4MYOuduj_5"
      },
      "execution_count": null,
      "outputs": []
    },
    {
      "cell_type": "code",
      "source": [
        "# Identitätsanweisungen (Objektvergleich)\n",
        "\n",
        "frutas1 = [\"manzana\", \"banana\", \"cereza\"]\n",
        "frutas2 = [\"uvas\", \"melocoton\", \"naranja\"]\n",
        "frutas3 = frutas1\n",
        "\n",
        "print (frutas1 is frutas2)  # Ausgabe: False\n",
        "print (frutas1 == frutas2)  # Ausgabe: False\n",
        "print (frutas1 is frutas3)  # Ausgabe: True\n",
        "print (frutas1 == frutas3)  # Ausgabe: True\n",
        "\n",
        "#Zugehörigkeitsprüfungen\n",
        "\n",
        "print (\"manzana\" in frutas1)  # Ausgabe: True\n",
        "print (\"manzana\" not in frutas1)  # Ausgabe: False\n",
        "\n",
        "frutas3 = \"melocoton\"\n",
        "print (frutas3 in frutas1)  # Ausgabe: False\n"
      ],
      "metadata": {
        "id": "T-9iiwNr2_m_"
      },
      "execution_count": null,
      "outputs": []
    },
    {
      "cell_type": "code",
      "source": [
        "Zahl = int(input(\"Gib eine Zahl ein: \"))\n",
        "\n",
        "if Zahl % 2 == 0:\n",
        "   print (\"Die Zahl ist gerade\")\n",
        "else:\n",
        "   print (\"Die Zahl ist ungerade\")"
      ],
      "metadata": {
        "id": "s2T0a1WObWEJ"
      },
      "execution_count": null,
      "outputs": []
    },
    {
      "cell_type": "code",
      "source": [
        "Zahl = int(input(\"Gib eine Zahl zwischen 1 und 10 ein: \"))\n",
        "\n",
        "if Zahl < 1:\n",
        "   print (\"Die Zahl ist kleiner als 1\")\n",
        "else:\n",
        "   if Zahl > 10:\n",
        "       print (\"Die Zahl ist größer als 10\")\n",
        "   else:\n",
        "       print (\"Die Zahl ist zwischen 1 und 10\")\n"
      ],
      "metadata": {
        "id": "3SpC77x5eL7_"
      },
      "execution_count": null,
      "outputs": []
    },
    {
      "cell_type": "code",
      "source": [
        "# Schlüsselwörter wie for oder if etc immer klein schreiben\n",
        "# range(10) bedeutet 0-9 - es wird immer bei 0 angefangen\n",
        "for number in range(10):\n",
        "    print(number)"
      ],
      "metadata": {
        "id": "KJUPYOKNg5HQ"
      },
      "execution_count": null,
      "outputs": []
    },
    {
      "cell_type": "code",
      "source": [
        "#range(3, 9) bedeutet fange bei der kleinen Zahl an und höre 1 unter der gro0en Zahl auf\n",
        "for number in range(3, 9):\n",
        "    print(number)\n",
        "\n",
        "# auch hier erfolgt die Ausgabe vertikal"
      ],
      "metadata": {
        "id": "mkz2Er-9ft1b"
      },
      "execution_count": null,
      "outputs": []
    },
    {
      "cell_type": "code",
      "source": [
        "# range(3, 9, 2) bedeutet fange bei der kleinen Zahl an, zähle in 2er Schritten\n",
        "# bis zur gewünschten großen Zahl, aber höre einen Schritt davor auf\n",
        "for number in range(3, 9, 2):\n",
        "    print(number)"
      ],
      "metadata": {
        "id": "mUZdebdvgwcr"
      },
      "execution_count": null,
      "outputs": []
    },
    {
      "cell_type": "code",
      "source": [
        "# range(10, 0, -2) bedeutet fange bei der großen Zahl an und zähle in 2er\n",
        "# Schritten nach unten bis zur kleinen Zahl, höre aber einen Schritt davor auf\n",
        "for number in range(10, 0, -2):\n",
        "    print(number)"
      ],
      "metadata": {
        "id": "apipo7CPg5GU"
      },
      "execution_count": null,
      "outputs": []
    },
    {
      "cell_type": "code",
      "source": [
        "# ein Beispiel mit Objekten - macht keinen Unterschied\n",
        "lista = [\"apple\", \"banana\", \"cherry\"]\n",
        "for fruit in lista:\n",
        "    print(fruit)"
      ],
      "metadata": {
        "id": "xl0LfZTzg8B8"
      },
      "execution_count": null,
      "outputs": []
    },
    {
      "cell_type": "code",
      "source": [
        "# hier erfolgt die Aufzählung Horizontal (end=\" \")\n",
        "lista = 1, 2, 3, 4, 5 # ohne Klammern ist dies einfach eine Aufzählung von Zahlen, Objekten etc. die keinen Zusammenhang haben\n",
        "lista = (1, 2, 3, 4, 5) # runde Klammern () ist eine Aufzählung von Zahlen, Objekten etc. die nicht verändert werden kann\n",
        "lista = [1, 2, 3, 4, 5] # eckige Klammern [] ist dies einfach eine Aufzählung von Zahlen, Objekten etc. die veränderlich sein können\n",
        "for number in lista:\n",
        "    print(number, end=\" \") # dadurch erfolgt die Aufzählung Horizontal"
      ],
      "metadata": {
        "id": "FI6RGrXVhLDL"
      },
      "execution_count": null,
      "outputs": []
    },
    {
      "cell_type": "code",
      "source": [
        "# While Schleife\n",
        "numero = 1\n",
        "while numero <= 5:\n",
        "    print(numero, end=\" \")\n",
        "    numero += 1\n",
        "# würde man die letzte codezeile weglassen, dann wäre das Ergebnis ewig 1"
      ],
      "metadata": {
        "id": "-roGa08Lk36j"
      },
      "execution_count": null,
      "outputs": []
    },
    {
      "cell_type": "code",
      "source": [
        "# wann benutzt man break\n",
        "numero = 0\n",
        "while numero < 10:\n",
        "    numero += 1\n",
        "    if numero == 5:\n",
        "        break\n",
        "    print(numero, end=\" \")\n",
        "# durch break wird die Schleife beendet sobald 5 erreicht ist"
      ],
      "metadata": {
        "id": "e3tOWqtYm9zj"
      },
      "execution_count": null,
      "outputs": []
    },
    {
      "cell_type": "code",
      "source": [
        "numero = 0 # Ausgangsnummer\n",
        "while True: # solange die Schleife durchlaufen wie if true ist\n",
        "    numero += 1 # eins zur vorherigen numero addieren\n",
        "    if numero == 5: # bis 5 erreicht ist\n",
        "        break # durch break wird die Schleife beendet sobald 5 erreicht ist\n",
        "    print(numero, end=\" \") # Ausgabe erfolgt horizontal\n"
      ],
      "metadata": {
        "id": "dLcvONd6o57r",
        "outputId": "27285612-0237-4bae-dc97-40771ba05e55",
        "colab": {
          "base_uri": "https://localhost:8080/"
        }
      },
      "execution_count": null,
      "outputs": [
        {
          "output_type": "stream",
          "name": "stdout",
          "text": [
            "1 2 3 4 "
          ]
        }
      ]
    },
    {
      "cell_type": "markdown",
      "source": [
        "Funciones\n"
      ],
      "metadata": {
        "id": "bgDSSTQ6Cegv"
      }
    },
    {
      "cell_type": "code",
      "source": [
        "def datos(nombre, edad, ciudad):\n",
        " print(f\"Edad: {edad}, Ciudad: {ciudad}, Nombre: {nombre}\")\n",
        "\n",
        "datos(edad=25, ciudad=\"Madrid\", nombre =\"Juan\")\n"
      ],
      "metadata": {
        "id": "j0kx1UUa3PnR",
        "outputId": "ee028f61-f166-43bd-ccf0-44e8dbea7c91",
        "colab": {
          "base_uri": "https://localhost:8080/"
        }
      },
      "execution_count": null,
      "outputs": [
        {
          "output_type": "stream",
          "name": "stdout",
          "text": [
            "Edad: 25, Ciudad: Madrid, Nombre: Juan\n"
          ]
        }
      ]
    },
    {
      "cell_type": "code",
      "source": [
        "def addiere(x, y): # dies definiert eine Funktion namens addiere, die zwei Parameter, x und y, akzeptiert\n",
        "    summe = x + y # Innerhalb der Funktion wird die Summe der beiden Parameter berechnet und in der Variable summe gespeichert\n",
        "\n",
        "    return summe # Die Funktion gibt das Ergebnis (als Variable Summe) zurück\n",
        "\n",
        "ergebnis = addiere(3, 5) # Aufruf der Funktion mit den Argumenten 3 und 5\n",
        "print(ergebnis) # Ausgabe des Ergebnisses"
      ],
      "metadata": {
        "colab": {
          "base_uri": "https://localhost:8080/"
        },
        "id": "Cs2x9tAdeX6c",
        "outputId": "93a49a2d-aa6e-438c-f192-da927e63b2b2"
      },
      "execution_count": 20,
      "outputs": [
        {
          "output_type": "stream",
          "name": "stdout",
          "text": [
            "8\n"
          ]
        }
      ]
    },
    {
      "cell_type": "code",
      "source": [
        "def begruessung(): # definiert eine Funktion namens begruessung()\n",
        "    print(\"Hallo, willkommen!\") # legt fest was in der Klammer bei Begrpssung stehen soll\n",
        "\n",
        "begruessung() # gibt aus was in der Funktion mit print hinterlegt wurde"
      ],
      "metadata": {
        "colab": {
          "base_uri": "https://localhost:8080/"
        },
        "id": "c9N6JSAjlX8D",
        "outputId": "ea9a0f0b-8454-4717-e4f2-e8afb152aa71"
      },
      "execution_count": 22,
      "outputs": [
        {
          "output_type": "stream",
          "name": "stdout",
          "text": [
            "Hallo, willkommen!\n"
          ]
        }
      ]
    },
    {
      "cell_type": "code",
      "source": [
        "# mehrere Werte zurückgeben\n",
        "\n",
        "def berechne(x, y): # definiert die Funktion namens berechne\n",
        "  summe = x + y # legt fest was im Argument summe berechnet werden soll\n",
        "  differenz = x - y # legt fest was im Argument differenz berechnet werden soll\n",
        "  return summe, differenz # Die Funktion gibt das Ergebnis (als Variablen) zurück\n",
        "\n",
        "ergebnis_summe, ergebnis_differenz = berechne(10, 5) # Aufruf der Funktion mit den Argumenten 10 und 5\n",
        "print(\"Summe:\", ergebnis_summe) # Ausgabe: Summe: 15\n",
        "print(\"Differenz:\", ergebnis_differenz) # Ausgabe: Differenz: 5\n",
        "\n",
        ""
      ],
      "metadata": {
        "colab": {
          "base_uri": "https://localhost:8080/"
        },
        "id": "SH2C0MuKmmkI",
        "outputId": "b4a9f6a2-8ae9-407c-fd32-bd3256dcdbb2"
      },
      "execution_count": 23,
      "outputs": [
        {
          "output_type": "stream",
          "name": "stdout",
          "text": [
            "Summe: 15\n",
            "Differenz: 5\n"
          ]
        }
      ]
    },
    {
      "cell_type": "code",
      "source": [
        "# Standartparameter\n",
        "\n",
        "def multipliziere(x, y=2): return x * y # Standartparameter hier 2\n",
        "\n",
        "print(multipliziere(5)) # Ausgabe: 10 (5 * 2)\n",
        "\n",
        "print(multipliziere(5, 3)) # Ausgabe: 15 (5 * 3) - Standartparameter 2 wird pberschrieben mit 3\n",
        "\n",
        ""
      ],
      "metadata": {
        "colab": {
          "base_uri": "https://localhost:8080/"
        },
        "id": "vrMz73YGoZAh",
        "outputId": "82b8db8f-4995-4e24-b58f-dc4bfaf5cd98"
      },
      "execution_count": 25,
      "outputs": [
        {
          "output_type": "stream",
          "name": "stdout",
          "text": [
            "10\n",
            "15\n"
          ]
        }
      ]
    },
    {
      "cell_type": "markdown",
      "source": [
        "Klassen und Objekte"
      ],
      "metadata": {
        "id": "kuDTMRh9uIwc"
      }
    },
    {
      "cell_type": "code",
      "source": [
        "class Hund: # Klasse\n",
        "  def __init__(self, nombre, edad):\n",
        "    self.nombre = nombre # Attribute nombre siehe init Zeile\n",
        "    self.edad = edad # Attribute edad siehe init Zeile\n",
        "\n",
        "  def bellen(self): # Methode\n",
        "    print(f\"{self.nombre} bellt: Wau Wau!\")\n",
        "\n",
        "  def beschreibung(self): # weitere Methode\n",
        "    print(f\"{self.nombre} ist {self.edad} Jahre alt.\")\n",
        "\n",
        "# damit haben wir nun die Klasse erstellt, der wir nun Objekte zuweisen können\n",
        "\n",
        "mein_Hund = Hund (\"Rex\", 7)\n",
        "dein_Hund = Hund (\"Camila\", 10)\n",
        "\n",
        "mein_Hund.bellen() # Aufruf der Methode bellen()\n",
        "dein_Hund.bellen() # Aufruf der Methode bellen()\n",
        "mein_Hund.beschreibung() # Aufruf der Methode beschreibung()\n",
        "dein_Hund.beschreibung() # Aufruf der Methode beschreibung()\n"
      ],
      "metadata": {
        "id": "M4X_3oXsx8c2",
        "outputId": "b4cbd720-05a1-4037-9c96-7ba3267c05d3",
        "colab": {
          "base_uri": "https://localhost:8080/"
        }
      },
      "execution_count": 8,
      "outputs": [
        {
          "output_type": "stream",
          "name": "stdout",
          "text": [
            "Rex bellt: Wau Wau!\n",
            "Camila bellt: Wau Wau!\n",
            "Rex ist 7 Jahre alt.\n",
            "Camila ist 10 Jahre alt.\n"
          ]
        }
      ]
    },
    {
      "cell_type": "code",
      "source": [],
      "metadata": {
        "id": "T6LyIYRa0ixT"
      },
      "execution_count": null,
      "outputs": []
    },
    {
      "cell_type": "code",
      "source": [],
      "metadata": {
        "id": "pSF4D0L-07oS"
      },
      "execution_count": null,
      "outputs": []
    }
  ]
}