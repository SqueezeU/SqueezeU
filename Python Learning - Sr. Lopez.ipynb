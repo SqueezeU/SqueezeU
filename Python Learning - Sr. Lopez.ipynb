{
  "nbformat": 4,
  "nbformat_minor": 0,
  "metadata": {
    "colab": {
      "provenance": [],
      "authorship_tag": "ABX9TyPxCde7e/T57IShZm6scJAi",
      "include_colab_link": true
    },
    "kernelspec": {
      "name": "python3",
      "display_name": "Python 3"
    },
    "language_info": {
      "name": "python"
    }
  },
  "cells": [
    {
      "cell_type": "markdown",
      "metadata": {
        "id": "view-in-github",
        "colab_type": "text"
      },
      "source": [
        "<a href=\"https://colab.research.google.com/github/SqueezeU/SqueezeU/blob/main/Python%20Learning%20-%20Sr.%20Lopez.ipynb\" target=\"_parent\"><img src=\"https://colab.research.google.com/assets/colab-badge.svg\" alt=\"Open In Colab\"/></a>"
      ]
    },
    {
      "cell_type": "code",
      "source": [
        "# Ausgabe am Bildschirm mittels print\n",
        "# wenn wir nichts konkretes angeben werden alle Eingaben als Text behandelt\n",
        "# trotzdem sind Textanweisungen immer in Anführungszeichen zu setzen \"...\"\n",
        "print(\"Hallo \")\n",
        "print(\"Ximena, Avril, Octavio\")\n",
        "\n",
        "# wenn man einen anderen Seperator möchte, benutzt man sep = \"...\"\n",
        "print(\"Ximena\", \"Avril\", \"Octavio\", sep = \" - \")\n",
        "\n",
        "# und für ein spezielles Satzende benutzt man end = \"...\"\n",
        "print(\"Ximena\", \"Avril\", \"Octavio\", sep = \" - \", end = \" ! \")"
      ],
      "metadata": {
        "colab": {
          "base_uri": "https://localhost:8080/"
        },
        "id": "8xEzgu6yDCB-",
        "outputId": "57f1578a-0f46-45d2-b3f7-afed11972687"
      },
      "execution_count": 15,
      "outputs": [
        {
          "output_type": "stream",
          "name": "stdout",
          "text": [
            "Hallo \n",
            "Ximena, Avril, Octavio\n",
            "Ximena - Avril - Octavio\n",
            "Ximena - Avril - Octavio ! "
          ]
        }
      ]
    },
    {
      "cell_type": "code",
      "source": [
        "# Eingabeaufforderung an den User mittels input\n",
        "\n",
        "print(\"Wie ist dein Name? \")\n",
        "name = input()\n",
        "print(\"Hallo \" + name)\n",
        "\n",
        "# eine weitere Möglichkeit wäre\n",
        "\n",
        "name = input(\"Wie ist dein Name? \")\n",
        "print(\"Hallo \" + name)"
      ],
      "metadata": {
        "colab": {
          "base_uri": "https://localhost:8080/"
        },
        "id": "j6HTquznI5-e",
        "outputId": "51edd230-14b6-4e9a-ffef-0b871d7f7c05"
      },
      "execution_count": 18,
      "outputs": [
        {
          "output_type": "stream",
          "name": "stdout",
          "text": [
            "Wie ist dein Name? \n",
            "Errol\n",
            "Hallo Errol\n",
            "Wie ist dein Name? Errol\n",
            "Hallo Errol\n"
          ]
        }
      ]
    },
    {
      "cell_type": "code",
      "execution_count": null,
      "metadata": {
        "colab": {
          "base_uri": "https://localhost:8080/"
        },
        "id": "nFV1YyDOcKW1",
        "outputId": "a0ac95f0-259f-4807-f4eb-292e9bd52d88"
      },
      "outputs": [
        {
          "output_type": "stream",
          "name": "stdout",
          "text": [
            "<class 'int'>\n",
            "<class 'float'>\n",
            "<class 'tuple'>\n",
            "<class 'str'>\n",
            "<class 'complex'>\n"
          ]
        }
      ],
      "source": [
        "# Integer, Float, Tuple, String, Complex, Boolean\n",
        "\n",
        "a = 1\n",
        "b = 3.5\n",
        "c = 3,5\n",
        "d = \"Hallo\"\n",
        "e = 3+5j\n",
        "\n",
        "print (type(a))\n",
        "print (type(b))\n",
        "print (type(c))\n",
        "print (type(d))\n",
        "print (type(e))\n"
      ]
    },
    {
      "cell_type": "code",
      "source": [
        "# Abfragen\n",
        "\n",
        "numero1 = input(\"Gib eine Zahl ein: \")\n",
        "numero2 = input(\"Gib eine zweite Zahl ein: \")\n",
        "\n",
        "print (numero1 + numero2)\n",
        "# hier interpretiert Python die Zahlen 5 und 7 als Text, deswegen schreibt er sie einfach hintereinander - Ausgabe 57\n",
        "\n",
        "# wenn ich möchte das Python 5 und 7 addiert, dann muss ich ihm mitteilen das es sich um Zahlen handelt - Ausgabe 12\n",
        "print (int(numero1) + int(numero2))\n"
      ],
      "metadata": {
        "colab": {
          "base_uri": "https://localhost:8080/"
        },
        "id": "3ujvtRVae1ke",
        "outputId": "2da5b12a-b837-4056-cfd2-82db5ee0443b"
      },
      "execution_count": null,
      "outputs": [
        {
          "output_type": "stream",
          "name": "stdout",
          "text": [
            "Gib eine Zahl ein: 5\n",
            "Gib eine zweite Zahl ein: 7\n",
            "57\n",
            "12\n"
          ]
        }
      ]
    },
    {
      "cell_type": "code",
      "source": [
        "# Rechenoperationen - mathematische Berechnungen\n",
        "\n",
        "x = 5\n",
        "y = 7\n",
        "\n",
        "print (x+y) # Addition 5 + 7\n",
        "print (x-y) # Subtraktion 5 - 7\n",
        "print (x*y) # Multiplikation 5 * 7\n",
        "print (x/y) # Division 5 / 7\n",
        "print (x**y) # Potenz 5 hoch 7 also 5x5x5x5x5x5x5\n",
        "print (x%y) # Rest der Divison 5 / 7 geht nicht also Rest 5 - wären die Zahlen 11 und 4 dann wäre das Ergebnis 3 weil 4 in 11 2x reingeht (=8) und dann 3 übrigbleiben bis 11\n",
        "print (x//y) # Ganzzahlige Division 5 / 7 hier wird nach der Division alles nach dem Komma einfach abgeschnitten und nur die Ganzzahl vor dem Komma angezeigt\n"
      ],
      "metadata": {
        "colab": {
          "base_uri": "https://localhost:8080/"
        },
        "id": "9f4OlxysmcFC",
        "outputId": "ad637b0c-ae05-4cb2-ad7c-558688364bf2"
      },
      "execution_count": null,
      "outputs": [
        {
          "output_type": "stream",
          "name": "stdout",
          "text": [
            "12\n",
            "-2\n",
            "35\n",
            "0.7142857142857143\n",
            "78125\n",
            "5\n",
            "0\n"
          ]
        }
      ]
    },
    {
      "cell_type": "code",
      "source": [
        "# Rechenoperationen - Wertzuweisungen\n",
        "\n",
        "x = 5\n",
        "y = 7\n",
        "\n",
        "x += y # x = x + y\n",
        "print (x)\n",
        "\n",
        "x -= y # x = x - y\n",
        "print (x)\n",
        "\n",
        "x *= y # x = x * y\n",
        "print (x)\n",
        "\n",
        "x /= y # x = x / y\n",
        "print (x)\n",
        "\n",
        "x **= y # x = x ** y\n",
        "print (x)\n",
        "\n",
        "x %= y # x = x % y\n",
        "print (x)\n",
        "\n",
        "x //= y # x = x // y\n",
        "print (x)\n"
      ],
      "metadata": {
        "colab": {
          "base_uri": "https://localhost:8080/"
        },
        "id": "SooDI801rihg",
        "outputId": "62b92d0f-70aa-4484-b2aa-189074332670"
      },
      "execution_count": null,
      "outputs": [
        {
          "output_type": "stream",
          "name": "stdout",
          "text": [
            "12\n",
            "5\n",
            "35\n",
            "5.0\n",
            "78125.0\n",
            "5.0\n",
            "0.0\n"
          ]
        }
      ]
    },
    {
      "cell_type": "code",
      "source": [
        "# vergleichende Rechenoperationen - arbeiten mit dem Wert Wahr oder Falsch\n",
        "\n",
        "x = 5\n",
        "y = 7\n",
        "\n",
        "print (x == y) # Gleich\n",
        "print (x != y) # Ungleich\n",
        "print (x > y) # Größer\n",
        "print (x < y) # Kleiner\n",
        "print (x >= y) # Größer oder gleich\n",
        "print (x <= y) # Kleiner oder gleich"
      ],
      "metadata": {
        "colab": {
          "base_uri": "https://localhost:8080/"
        },
        "id": "PZixw8WsqIOQ",
        "outputId": "0970e0df-f4e2-4249-92e6-ee5daca847b7"
      },
      "execution_count": null,
      "outputs": [
        {
          "output_type": "stream",
          "name": "stdout",
          "text": [
            "False\n",
            "True\n",
            "False\n",
            "True\n",
            "False\n",
            "True\n"
          ]
        }
      ]
    },
    {
      "cell_type": "code",
      "source": [
        "# logische Rechenoperatoren werden verwendet um Bedingungen zu kombinieren und zu bewerten\n",
        "\n",
        "# not: dieser Operator kehrt den Wahrheitswert eines Ausdrucks um. Wenn der Ausdruck True ist, wird er durch \"not\" zu False und umgekehrt\n",
        "a = True\n",
        "print(not a)  # Ausgabe: False\n",
        "\n",
        "# and: dieser Operator gibt True zurück, wenn beide Ausdrücke True sind. Wenn einer der Ausdrücke False ist, gibt er False zurück\n",
        "a = True\n",
        "b = False\n",
        "print(a and b)  # Ausgabe: False\n",
        "\n",
        "# or: dieser Operator gibt True zurück, wenn mindestens einer der Ausdrücke True ist. Er gibt nur False zurück, wenn beide Ausdrücke False sind\n",
        "a = True\n",
        "b = False\n",
        "print(a or b)  # Ausgabe: True"
      ],
      "metadata": {
        "colab": {
          "base_uri": "https://localhost:8080/"
        },
        "id": "Zm4MYOuduj_5",
        "outputId": "81f957fc-100e-4c52-a816-8323bf6838be"
      },
      "execution_count": null,
      "outputs": [
        {
          "output_type": "stream",
          "name": "stdout",
          "text": [
            "False\n",
            "False\n",
            "True\n"
          ]
        }
      ]
    },
    {
      "cell_type": "code",
      "source": [
        "# Identitätsanweisungen (Objektvergleich)\n",
        "\n",
        "frutas1 = [\"manzana\", \"banana\", \"cereza\"]\n",
        "frutas2 = [\"uvas\", \"melocoton\", \"naranja\"]\n",
        "frutas3 = frutas1\n",
        "\n",
        "print (frutas1 is frutas2)  # Ausgabe: False\n",
        "print (frutas1 == frutas2)  # Ausgabe: False\n",
        "print (frutas1 is frutas3)  # Ausgabe: True\n",
        "print (frutas1 == frutas3)  # Ausgabe: True\n",
        "\n",
        "#Zugehörigkeitsprüfungen\n",
        "\n",
        "print (\"manzana\" in frutas1)  # Ausgabe: True\n",
        "print (\"manzana\" not in frutas1)  # Ausgabe: False\n",
        "\n",
        "frutas3 = \"melocoton\"\n",
        "print (frutas3 in frutas1)  # Ausgabe: False\n"
      ],
      "metadata": {
        "id": "T-9iiwNr2_m_",
        "colab": {
          "base_uri": "https://localhost:8080/"
        },
        "outputId": "3933f3a4-14ff-4451-842e-d6ca4834e03d"
      },
      "execution_count": 26,
      "outputs": [
        {
          "output_type": "stream",
          "name": "stdout",
          "text": [
            "False\n",
            "False\n",
            "True\n",
            "True\n",
            "True\n",
            "False\n",
            "False\n"
          ]
        }
      ]
    },
    {
      "cell_type": "code",
      "source": [
        "Zahl = int(input(\"Gib eine Zahl ein: \"))\n",
        "\n",
        "if Zahl % 2 == 0:\n",
        "   print (\"Die Zahl ist gerade\")\n",
        "else:\n",
        "   print (\"Die Zahl ist ungerade\")"
      ],
      "metadata": {
        "id": "s2T0a1WObWEJ",
        "outputId": "de527f51-a640-4080-c392-96f06023f113",
        "colab": {
          "base_uri": "https://localhost:8080/"
        }
      },
      "execution_count": 1,
      "outputs": [
        {
          "output_type": "stream",
          "name": "stdout",
          "text": [
            "Gib eine Zahl ein: 5\n",
            "Die Zahl ist ungerade\n"
          ]
        }
      ]
    },
    {
      "cell_type": "code",
      "source": [
        "Zahl = int(input(\"Gib eine Zahl zwischen 1 und 10 ein: \"))\n",
        "\n",
        "if Zahl < 1:\n",
        "   print (\"Die Zahl ist kleiner als 1\")\n",
        "else:\n",
        "   if Zahl > 10:\n",
        "       print (\"Die Zahl ist größer als 10\")\n",
        "   else:\n",
        "       print (\"Die Zahl ist zwischen 1 und 10\")\n"
      ],
      "metadata": {
        "id": "3SpC77x5eL7_",
        "outputId": "918f0018-ca92-4b68-cf57-dff38914f2c7",
        "colab": {
          "base_uri": "https://localhost:8080/"
        }
      },
      "execution_count": 6,
      "outputs": [
        {
          "output_type": "stream",
          "name": "stdout",
          "text": [
            "Gib eine Zahl zwischen 1 und 10 ein: 54\n",
            "Die Zahl ist größer als 10\n"
          ]
        }
      ]
    },
    {
      "cell_type": "code",
      "source": [],
      "metadata": {
        "id": "KJUPYOKNg5HQ"
      },
      "execution_count": null,
      "outputs": []
    }
  ]
}