{
  "nbformat": 4,
  "nbformat_minor": 0,
  "metadata": {
    "colab": {
      "provenance": [],
      "authorship_tag": "ABX9TyP6elZvu9EQv7R/yLcLntP1",
      "include_colab_link": true
    },
    "kernelspec": {
      "name": "python3",
      "display_name": "Python 3"
    },
    "language_info": {
      "name": "python"
    }
  },
  "cells": [
    {
      "cell_type": "markdown",
      "metadata": {
        "id": "view-in-github",
        "colab_type": "text"
      },
      "source": [
        "<a href=\"https://colab.research.google.com/github/SqueezeU/SqueezeU/blob/main/Learning_Python.ipynb\" target=\"_parent\"><img src=\"https://colab.research.google.com/assets/colab-badge.svg\" alt=\"Open In Colab\"/></a>"
      ]
    },
    {
      "cell_type": "code",
      "execution_count": 29,
      "metadata": {
        "colab": {
          "base_uri": "https://localhost:8080/"
        },
        "id": "nFV1YyDOcKW1",
        "outputId": "a0ac95f0-259f-4807-f4eb-292e9bd52d88"
      },
      "outputs": [
        {
          "output_type": "stream",
          "name": "stdout",
          "text": [
            "<class 'int'>\n",
            "<class 'float'>\n",
            "<class 'tuple'>\n",
            "<class 'str'>\n",
            "<class 'complex'>\n"
          ]
        }
      ],
      "source": [
        "# Integer, Float, Tuple, String, Complex, Boolean\n",
        "\n",
        "a = 1\n",
        "b = 3.5\n",
        "c = 3,5\n",
        "d = \"Hallo\"\n",
        "e = 3+5j\n",
        "\n",
        "print (type(a))\n",
        "print (type(b))\n",
        "print (type(c))\n",
        "print (type(d))\n",
        "print (type(e))\n"
      ]
    },
    {
      "cell_type": "code",
      "source": [
        "# Abfragen\n",
        "\n",
        "numero1 = input(\"Gib eine Zahl ein: \")\n",
        "numero2 = input(\"Gib eine zweite Zahl ein: \")\n",
        "\n",
        "print (numero1 + numero2)\n",
        "# hier interpretiert Python die Zahlen 5 und 7 als Text, deswegen schreibt er sie einfach hintereinander - Ausgabe 57\n",
        "\n",
        "# wenn ich möchte das Python 5 und 7 addiert, dann muss ich ihm mitteilen das es sich um Zahlen handelt - Ausgabe 12\n",
        "print (int(numero1) + int(numero2))\n",
        "\n",
        "\n"
      ],
      "metadata": {
        "colab": {
          "base_uri": "https://localhost:8080/"
        },
        "id": "3ujvtRVae1ke",
        "outputId": "2da5b12a-b837-4056-cfd2-82db5ee0443b"
      },
      "execution_count": 28,
      "outputs": [
        {
          "output_type": "stream",
          "name": "stdout",
          "text": [
            "Gib eine Zahl ein: 5\n",
            "Gib eine zweite Zahl ein: 7\n",
            "57\n",
            "12\n"
          ]
        }
      ]
    }
  ]
}