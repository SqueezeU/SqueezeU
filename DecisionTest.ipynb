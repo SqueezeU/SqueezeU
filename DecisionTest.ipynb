{
  "nbformat": 4,
  "nbformat_minor": 0,
  "metadata": {
    "colab": {
      "provenance": [],
      "include_colab_link": true
    },
    "kernelspec": {
      "name": "python3",
      "display_name": "Python 3"
    },
    "language_info": {
      "name": "python"
    }
  },
  "cells": [
    {
      "cell_type": "markdown",
      "metadata": {
        "id": "view-in-github",
        "colab_type": "text"
      },
      "source": [
        "<a href=\"https://colab.research.google.com/github/PEA-IA-DS-Proyecto-1/HomePricePredictorBCN/blob/main/DecisionTest.ipynb\" target=\"_parent\"><img src=\"https://colab.research.google.com/assets/colab-badge.svg\" alt=\"Open In Colab\"/></a>"
      ]
    },
    {
      "cell_type": "code",
      "source": [
        "#Importa"
      ],
      "metadata": {
        "id": "xaPQWbg6zQBv"
      },
      "execution_count": null,
      "outputs": []
    },
    {
      "cell_type": "code",
      "source": [
        "#Importar librerias y DataSet\n",
        "import pandas as pd\n",
        "import matplotlib.pyplot as plt\n",
        "from sklearn.linear_model import LinearRegression\n",
        "\n",
        "url = 'https://raw.githubusercontent.com/PEA-IA-DS-Proyecto-1/HomePricePredictorBCN/main/Barcelona_Fotocasa_HousingPrices.csv'\n",
        "df = pd.read_csv(url)"
      ],
      "metadata": {
        "id": "NNVdgpqIdFYx"
      },
      "execution_count": 1,
      "outputs": []
    },
    {
      "cell_type": "code",
      "source": [
        "id_column = df.iloc[:, 0]\n",
        "num_cols = df.select_dtypes(include=['number']).drop(columns=[id_column.name], errors='ignore').columns.tolist()\n",
        "matriz_corr = df[num_cols].corr()\n",
        "plt.figure(figsize=(10, 8))\n",
        "plt.matshow(matriz_corr, cmap='coolwarm', vmin=-1, vmax=1, fignum=1)\n",
        "plt.colorbar()\n",
        "plt.xticks(range(len(num_cols)), num_cols, rotation=45, ha='left')\n",
        "plt.yticks(range(len(num_cols)), num_cols)\n",
        "plt.title('Matriz de correlación', pad=20)\n",
        "for i in range(len(num_cols)):\n",
        "    for j in range(len(num_cols)):\n",
        "        plt.text(j, i, f'{matriz_corr.iloc[i, j]:.2f}', ha='center', va='center', color='black')\n",
        "plt.show()"
      ],
      "metadata": {
        "id": "TKRcF60PFjy3"
      },
      "execution_count": null,
      "outputs": []
    },
    {
      "cell_type": "code",
      "source": [
        "# Convertir la variables categóricas en variables dummy\n",
        "df = pd.get_dummies(df, columns=['neighborhood', 'lift', 'terrace', 'real_state'], drop_first=True)\n",
        "\n",
        "# Definir las variables independientes (X) y la variable dependiente (y)\n",
        "X = df.drop(columns=['price'])\n",
        "y = df['price']\n",
        "\n",
        "# Crear y entrenar el modelo de regresión lineal\n",
        "model = LinearRegression()\n",
        "model.fit(X, y)\n",
        "\n",
        "# Obtener los coeficientes del modelo\n",
        "coefficients = pd.DataFrame(model.coef_, X.columns, columns=['Coefficient'])\n",
        "print(coefficients)"
      ],
      "metadata": {
        "id": "BwfXIkIEpyTk"
      },
      "execution_count": null,
      "outputs": []
    },
    {
      "cell_type": "code",
      "source": [
        "# Agrupa por barrio y calcula la media del precio\n",
        "precio_por_barrio = df.groupby('neighborhood')['price'].mean()\n",
        "\n",
        "# Ordena los resultados por precio en orden descendente\n",
        "precio_por_barrio_ordenado = precio_por_barrio.sort_values(ascending=False)\n",
        "\n",
        "# Muestra los resultados ordenados\n",
        "print(precio_por_barrio_ordenado)"
      ],
      "metadata": {
        "id": "NYyj81B06y02"
      },
      "execution_count": null,
      "outputs": []
    },
    {
      "cell_type": "code",
      "source": [
        "# Agrupa por barrio y calcula la media del precio\n",
        "precio_por_barrio = df.groupby('real_state')['price'].mean()\n",
        "\n",
        "# Ordena los resultados por precio en orden descendente\n",
        "precio_por_barrio_ordenado = precio_por_barrio.sort_values(ascending=False)\n",
        "\n",
        "# Muestra los resultados ordenados\n",
        "print(precio_por_barrio_ordenado)"
      ],
      "metadata": {
        "id": "y--PMChH8Roy"
      },
      "execution_count": null,
      "outputs": []
    },
    {
      "cell_type": "code",
      "source": [
        "df.columns\n",
        "# Agrupa por barrio y calcula la media del precio\n",
        "#precio_por_barrio = df.groupby('real_state')['price'].mean()"
      ],
      "metadata": {
        "id": "5pquUKo_9uI4"
      },
      "execution_count": null,
      "outputs": []
    },
    {
      "cell_type": "code",
      "source": [
        "# Agrupa por barrio y calcula la media del precio\n",
        "precio_por_barrio = df.groupby('neighborhood')['square_meters'].mean()\n",
        "\n",
        "# Ordena los resultados por precio en orden descendente\n",
        "precio_por_barrio_ordenado = precio_por_barrio.sort_values(ascending=False)\n",
        "\n",
        "# Muestra los resultados ordenados\n",
        "print(precio_por_barrio_ordenado)"
      ],
      "metadata": {
        "id": "7CvpZQ2C-4Ek"
      },
      "execution_count": null,
      "outputs": []
    },
    {
      "cell_type": "code",
      "source": [
        "precio_metros_por_barrio = df.groupby('neighborhood').agg({'price': 'mean', 'square_meters': 'mean'})\n",
        "\n",
        "# Ordena por precio en orden descendente\n",
        "precio_metros_por_barrio_ordenado = precio_metros_por_barrio.sort_values(by=['price'], ascending=False)\n",
        "\n",
        "print(precio_metros_por_barrio_ordenado)"
      ],
      "metadata": {
        "id": "z4ZQRr3I_RoZ"
      },
      "execution_count": null,
      "outputs": []
    },
    {
      "cell_type": "code",
      "source": [
        "# Agrupa por barrio y calcula la media del precio\n",
        "precio_por_barrio = df.groupby('real_state')['square_meters'].mean()\n",
        "\n",
        "# Ordena los resultados por precio en orden descendente\n",
        "precio_por_barrio_ordenado = precio_por_barrio.sort_values(ascending=False)\n",
        "\n",
        "# Muestra los resultados ordenados\n",
        "print(precio_por_barrio_ordenado)"
      ],
      "metadata": {
        "id": "w9sYwuRFBUFY"
      },
      "execution_count": null,
      "outputs": []
    },
    {
      "cell_type": "code",
      "source": [
        "#LINEAS DE CODIGO ACORDADAS EN EL TEAMS DE ESTA TARDE DIA 21/10/2024 (incluir campo flag)\n",
        "# Cálculo del valor medio de metros cuadrados para cada tipo de vivienda en cada barrio\n",
        "mean_square_meters = df.groupby(['neighborhood', 'real_state'])['square_meters'].mean().reset_index()\n",
        "\n",
        "# Renombrar columna para evitar conflictos\n",
        "mean_square_meters.rename(columns={'square_meters': 'mean_square_meters'}, inplace=True)\n",
        "\n",
        "# Función para encontrar el tipo de vivienda más cercano basado en el valor medio de metros cuadrados\n",
        "def find_closest_real_state(row):\n",
        "    if pd.isna(row['real_state']):\n",
        "        # Filtrado del DataFrame de medias para obtener el tipo de vivienda con el valor medio más cercano\n",
        "        neighborhood_data = mean_square_meters[mean_square_meters['neighborhood'] == row['neighborhood']]\n",
        "        closest_real_state = neighborhood_data.iloc[(neighborhood_data['mean_square_meters'] - row['square_meters']).abs().argsort()[:1]]['real_state'].values[0]\n",
        "        return closest_real_state\n",
        "    else:\n",
        "        return row['real_state']\n",
        "\n",
        "# Aplicar función y listar los resultados\n",
        "df['predicted_real_state'] = df.apply(find_closest_real_state, axis=1)\n",
        "\n",
        "# Filtrar de los registros con NaN en el campo real_state\n",
        "result = df[pd.isna(df['real_state'])][['neighborhood', 'square_meters', 'predicted_real_state']]\n",
        "\n",
        "print(result)\n"
      ],
      "metadata": {
        "id": "AbvQK0SWZ8pA",
        "outputId": "b59394a8-1116-43b4-f967-52c771f58a20",
        "colab": {
          "base_uri": "https://localhost:8080/"
        }
      },
      "execution_count": 2,
      "outputs": [
        {
          "output_type": "stream",
          "name": "stdout",
          "text": [
            "             neighborhood  square_meters predicted_real_state\n",
            "16        Horta- Guinardo            129                attic\n",
            "57    Sarria-Sant Gervasi             85            apartment\n",
            "63    Sarria-Sant Gervasi             85            apartment\n",
            "78         Sants-Montjuïc             90                 flat\n",
            "83           Ciutat Vella             46                study\n",
            "...                   ...            ...                  ...\n",
            "8042         Ciutat Vella             53                study\n",
            "8059       Sants-Montjuïc            115                 flat\n",
            "8113         Ciutat Vella             55            apartment\n",
            "8120             Eixample             80            apartment\n",
            "8127               Gràcia             60            apartment\n",
            "\n",
            "[268 rows x 3 columns]\n"
          ]
        }
      ]
    },
    {
      "cell_type": "code",
      "source": [
        "# Averigüa cual es el valor medio de metros cuadrados para cada tipo de vivienda en cada barrio y en virtud a ese valor medio\n",
        "# determina que tipo de vivienda es y otorga el tipo de vivienda como valor a cada registro que tenga Nan\n",
        "# en el campo real_state.\n",
        "\n",
        "# Primero, calculamos el valor medio de metros cuadrados para cada tipo de vivienda en cada barrio\n",
        "# mean_square_meters = df.groupby(['neighborhood', 'real_state'])['square_meters'].mean().reset_index()\n",
        "\n",
        "# Renombramos la columna para evitar conflictos\n",
        "# mean_square_meters.rename(columns={'square_meters': 'mean_square_meters'}, inplace=True)\n",
        "\n",
        "# Unimos esta información con el DataFrame original\n",
        "# df = df.merge(mean_square_meters, on=['neighborhood', 'real_state'], how='left')\n",
        "\n",
        "# Ahora, llenamos los NaN en el campo real_state\n",
        "# def fill_real_state(row):\n",
        "#     if pd.isna(row['real_state']):\n",
        "#         # Filtramos el DataFrame de medias para obtener el tipo de vivienda con el valor medio más cercano\n",
        "#         neighborhood_data = mean_square_meters[mean_square_meters['neighborhood'] == row['neighborhood']]\n",
        "#         closest_real_state = neighborhood_data.iloc[(neighborhood_data['mean_square_meters'] - row['square_meters']).abs().argsort()[:1]]['real_state'].values[0]\n",
        "#         return closest_real_state\n",
        "#     else:\n",
        "#         return row['real_state']\n",
        "\n",
        "# df['real_state'] = df.apply(fill_real_state, axis=1)\n",
        "\n",
        "# Eliminamos la columna de medias ya que no la necesitamos más\n",
        "# df.drop(columns=['mean_square_meters'], inplace=True)\n",
        "\n",
        "# print(df)\n"
      ],
      "metadata": {
        "id": "BeGjRofWmF_j"
      },
      "execution_count": null,
      "outputs": []
    }
  ]
}